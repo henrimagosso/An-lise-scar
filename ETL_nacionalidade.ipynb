{
 "cells": [
  {
   "cell_type": "code",
   "execution_count": 2,
   "id": "de5cd9f7-5ebe-43a0-b150-05d28be68292",
   "metadata": {},
   "outputs": [
    {
     "name": "stdout",
     "output_type": "stream",
     "text": [
      "Tabela 1 (ganhadores_oscar_pessoas_com_nacionalidade.csv) carregada com sucesso. Dimensões: (75, 16)\n",
      "Tabela 2 (ganhadores_oscar_pessoas_2005_em_diante.csv) carregada com sucesso. Dimensões: (21, 16)\n"
     ]
    }
   ],
   "source": [
    "import pandas as pd\n",
    "\n",
    "arquivo_parte1 = \"ganhadores_oscar_pessoas_com_nacionalidade.csv\"\n",
    "arquivo_parte2 = \"ganhadores_oscar_pessoas_2005_em_diante.csv\"\n",
    "\n",
    "df_parte1 = pd.read_csv(arquivo_parte1)\n",
    "print(f\"Tabela 1 ({arquivo_parte1}) carregada com sucesso. Dimensões: {df_parte1.shape}\")\n",
    "df_parte2 = pd.read_csv(arquivo_parte2)\n",
    "print(f\"Tabela 2 ({arquivo_parte2}) carregada com sucesso. Dimensões: {df_parte2.shape}\")"
   ]
  },
  {
   "cell_type": "code",
   "execution_count": 3,
   "id": "21a017f1-e2e4-4d75-bd3c-1a5f5470b00f",
   "metadata": {},
   "outputs": [],
   "source": [
    "df = pd.concat([df_parte1, df_parte2], ignore_index=True)\n",
    "df.to_csv(\"ganhadores_oscar_1929_2025.csv\", index=False)"
   ]
  },
  {
   "cell_type": "code",
   "execution_count": 4,
   "id": "b51c6072-9ca0-43bb-88a2-9f66ab731694",
   "metadata": {},
   "outputs": [],
   "source": [
    "import re\n",
    "colunas_nacionalidade = [\n",
    "    'Melhor Ator_Nacionalidade',\n",
    "    'Melhor Atriz_Nacionalidade',\n",
    "    'Melhor Diretor_Nacionalidade',\n",
    "    'Melhor Ator Coadjuvante_Nacionalidade',\n",
    "    'Melhor Atriz Coadjuvante_Nacionalidade'\n",
    "]\n",
    "for col in colunas_nacionalidade:\n",
    "    if col in df.columns:\n",
    "        # 1. Substituir qualquer texto entre colchetes (incluindo os colchetes) por uma string vazia  Lua Nova [] [aaaaaaaa] [asasasdasd]\n",
    "        # Ex: \"Áustria-Hungria [atual Áustria]\" -> \"Áustria-Hungria \"\n",
    "        df[col] = df[col].astype(str).apply(lambda x: re.sub(r'\\[.*?\\]', '', x))\n",
    "        \n",
    "        # 2. Remover colchetes soltos no final (como em \"Moldova]\")\n",
    "        # Ex: \"Moldova]\" -> \"Moldova\"\n",
    "        df[col] = df[col].astype(str).str.replace(r'\\]', '', regex=True)\n",
    "        \n",
    "        # 3. Remover espaços em branco no início e no final\n",
    "        df[col] = df[col].astype(str).str.strip()\n",
    "\n",
    "        # Opcional: Converter strings vazias ou \"None\" literais para NaN (Not a Number) para padronização de valores ausentes\n",
    "        df[col] = df[col].replace('', pd.NA) \n",
    "        df[col] = df[col].replace('None', pd.NA)"
   ]
  },
  {
   "cell_type": "code",
   "execution_count": 5,
   "id": "872bbc8a-4932-4256-85c1-54ec06c5bb51",
   "metadata": {},
   "outputs": [],
   "source": [
    "# Foi verificado que não houve o scrapping do diretor do ano de 2008 e 2023 (provavelmente por ser uma dupla de diretores que ganhou)\n",
    "df.loc[df['Ano'] == 2008, 'Melhor Diretor'] = 'Joel Coen e Ethan Coen'\n",
    "df.loc[df['Ano'] == 2008, 'Melhor Diretor_Nacionalidade'] = 'EUA'\n",
    "df.loc[df['Ano'] == 2023, 'Melhor Diretor'] = 'Daniel Kwan e Daniel Scheinert'\n",
    "df.loc[df['Ano'] == 2023, 'Melhor Diretor_Nacionalidade'] = 'EUA'"
   ]
  },
  {
   "cell_type": "code",
   "execution_count": 6,
   "id": "4b509449-7789-4f1b-8991-563ed5db6cca",
   "metadata": {},
   "outputs": [
    {
     "name": "stderr",
     "output_type": "stream",
     "text": [
      "C:\\Users\\henri\\AppData\\Local\\Temp\\ipykernel_29864\\2072978621.py:16: FutureWarning: Setting an item of incompatible dtype is deprecated and will raise an error in a future version of pandas. Value 'Asiático' has dtype incompatible with float64, please explicitly cast to a compatible dtype first.\n",
      "  df.loc[df['Melhor Diretor'].isin(diretores_asiaticos_vencedores), 'Melhor Diretor_Etnia'] = 'Asiático'\n"
     ]
    }
   ],
   "source": [
    "# A partir daqui serão adicionados as etnias/grupos demográficos de cada vencedor para futura análise.\n",
    "# Melhor diretor\n",
    "diretores_asiaticos_vencedores = [\n",
    "    'Ang Lee',\n",
    "    'Bong Joon-ho',\n",
    "    'Chloé Zhao',\n",
    "    'Daniel Kwan e Daniel Scheinert' \n",
    "]\n",
    "\n",
    "diretores_latinos_vencedores = [\n",
    "    'Alfonso Cuarón',\n",
    "    'Alejandro G. Iñárritu',\n",
    "    'Guillermo del Toro'\n",
    "]\n",
    "\n",
    "df.loc[df['Melhor Diretor'].isin(diretores_asiaticos_vencedores), 'Melhor Diretor_Etnia'] = 'Asiático'\n",
    "df.loc[df['Melhor Diretor'].isin(diretores_latinos_vencedores), 'Melhor Diretor_Etnia'] = 'Latino'"
   ]
  },
  {
   "cell_type": "code",
   "execution_count": 7,
   "id": "720744e7-25c4-48d1-8b5e-205256e4833d",
   "metadata": {},
   "outputs": [
    {
     "name": "stderr",
     "output_type": "stream",
     "text": [
      "C:\\Users\\henri\\AppData\\Local\\Temp\\ipykernel_29864\\540547561.py:14: FutureWarning: Setting an item of incompatible dtype is deprecated and will raise an error in a future version of pandas. Value 'MENA' has dtype incompatible with float64, please explicitly cast to a compatible dtype first.\n",
      "  df.loc[df['Melhor Ator'].isin(atores_mena_vencedores), 'Melhor Ator_Etnia'] = 'MENA'\n"
     ]
    }
   ],
   "source": [
    "# Melhor ator\n",
    "atores_negros_vencedores = [\n",
    "    'Sidney Poitier',\n",
    "    'Denzel Washington',\n",
    "    'Jamie Foxx',\n",
    "    'Forest Whitaker',\n",
    "    'Will Smith'\n",
    "]\n",
    "\n",
    "atores_mena_vencedores = [\n",
    "    'Rami Malek'\n",
    "]\n",
    "\n",
    "df.loc[df['Melhor Ator'].isin(atores_mena_vencedores), 'Melhor Ator_Etnia'] = 'MENA'\n",
    "df.loc[df['Melhor Ator'].isin(atores_negros_vencedores), 'Melhor Ator_Etnia'] = 'Negro'\n"
   ]
  },
  {
   "cell_type": "code",
   "execution_count": 8,
   "id": "50870db5-2157-42ed-a8e0-dcf4c73abe2b",
   "metadata": {},
   "outputs": [
    {
     "name": "stderr",
     "output_type": "stream",
     "text": [
      "C:\\Users\\henri\\AppData\\Local\\Temp\\ipykernel_29864\\2581380020.py:11: FutureWarning: Setting an item of incompatible dtype is deprecated and will raise an error in a future version of pandas. Value 'Asiática' has dtype incompatible with float64, please explicitly cast to a compatible dtype first.\n",
      "  df.loc[df['Melhor Atriz'].isin(atrizes_asiaticas_vencedoras), 'Melhor Atriz_Etnia'] = 'Asiática'\n"
     ]
    }
   ],
   "source": [
    "# Melhor atriz\n",
    "\n",
    "atrizes_negras_vencedoras = [\n",
    "    'Halle Berry'\n",
    "]\n",
    "\n",
    "atrizes_asiaticas_vencedoras = [\n",
    "    'Michelle Yeoh'\n",
    "]\n",
    "\n",
    "df.loc[df['Melhor Atriz'].isin(atrizes_asiaticas_vencedoras), 'Melhor Atriz_Etnia'] = 'Asiática'\n",
    "df.loc[df['Melhor Atriz'].isin(atrizes_negras_vencedoras), 'Melhor Atriz_Etnia'] = 'Negra'"
   ]
  },
  {
   "cell_type": "code",
   "execution_count": 9,
   "id": "297986c3-070a-48a5-a2af-741d4a2dc25d",
   "metadata": {},
   "outputs": [
    {
     "name": "stderr",
     "output_type": "stream",
     "text": [
      "C:\\Users\\henri\\AppData\\Local\\Temp\\ipykernel_29864\\1064396527.py:22: FutureWarning: Setting an item of incompatible dtype is deprecated and will raise an error in a future version of pandas. Value 'Asiático' has dtype incompatible with float64, please explicitly cast to a compatible dtype first.\n",
      "  df.loc[df['Melhor Ator Coadjuvante'].isin(atores_coadjuvantes_asiaticos), 'Melhor Ator Coadjuvante_Etnia'] = 'Asiático'\n"
     ]
    }
   ],
   "source": [
    "# Melhor ator coadjuvante\n",
    "atores_coadjuvantes_negros = [\n",
    "    'Louis Gossett Jr.',\n",
    "    'Denzel Washington',\n",
    "    'Cuba Gooding Jr.',\n",
    "    'Morgan Freeman',\n",
    "    'Mahershala Ali',\n",
    "    'Daniel Kaluuya'\n",
    "]\n",
    "\n",
    "\n",
    "atores_coadjuvantes_asiaticos = [\n",
    "    'Ke Huy Quan'\n",
    "]\n",
    "\n",
    "atores_coadjuvantes_latinos = [\n",
    "    'Anthony Quinn',\n",
    "    'Benicio Del Toro',\n",
    "    'Javier Bardem'\n",
    "]\n",
    "\n",
    "df.loc[df['Melhor Ator Coadjuvante'].isin(atores_coadjuvantes_asiaticos), 'Melhor Ator Coadjuvante_Etnia'] = 'Asiático'\n",
    "df.loc[df['Melhor Ator Coadjuvante'].isin(atores_coadjuvantes_latinos), 'Melhor Ator Coadjuvante_Etnia'] = 'Latino'\n",
    "df.loc[df['Melhor Ator Coadjuvante'].isin(atores_coadjuvantes_negros), 'Melhor Ator Coadjuvante_Etnia'] = 'Negro'"
   ]
  },
  {
   "cell_type": "code",
   "execution_count": 10,
   "id": "01bd1c6d-d15d-4059-8200-c09ec8ea1918",
   "metadata": {},
   "outputs": [
    {
     "name": "stderr",
     "output_type": "stream",
     "text": [
      "C:\\Users\\henri\\AppData\\Local\\Temp\\ipykernel_29864\\865615089.py:15: FutureWarning: Setting an item of incompatible dtype is deprecated and will raise an error in a future version of pandas. Value 'Negra' has dtype incompatible with float64, please explicitly cast to a compatible dtype first.\n",
      "  df.loc[df['Melhor Atriz Coadjuvante'].isin(atrizes_coadjuvantes_negras), 'Melhor Atriz Coadjuvante_Etnia'] = 'Negra'\n"
     ]
    }
   ],
   "source": [
    "# Melhor atriz coadjuvante\n",
    "\n",
    "atrizes_coadjuvantes_negras = [\n",
    "    'Hattie McDaniel',\n",
    "    'Whoopi Goldberg',\n",
    "    'Jennifer Hudson',\n",
    "    'Octavia Spencer',\n",
    "    'Lupita Nyong\\'o', \n",
    "    'Viola Davis',\n",
    "    'Regina King',\n",
    "    'Ariana DeBose'\n",
    "]\n",
    "\n",
    "\n",
    "df.loc[df['Melhor Atriz Coadjuvante'].isin(atrizes_coadjuvantes_negras), 'Melhor Atriz Coadjuvante_Etnia'] = 'Negra'\n",
    "atrizes_coadjuvantes_asiaticas = [\n",
    "    'Yuh-Jung Youn'\n",
    "]\n",
    "df.loc[df['Melhor Atriz Coadjuvante'].isin(atrizes_coadjuvantes_asiaticas), 'Melhor Atriz Coadjuvante_Etnia'] = 'Asiática'\n",
    "\n",
    "atrizes_coadjuvantes_latinas = [\n",
    "    'Rita Moreno',\n",
    "    'Ariana DeBose' # A atriz Ariana DeBose é negra e possui ascendência latina\n",
    "]\n",
    "\n",
    "df.loc[df['Melhor Atriz Coadjuvante'].isin(atrizes_coadjuvantes_latinas), 'Melhor Atriz Coadjuvante_Etnia'] = 'Latina'"
   ]
  },
  {
   "cell_type": "code",
   "execution_count": 11,
   "id": "08038ca8-75d0-41d9-858b-2a61e6403166",
   "metadata": {},
   "outputs": [
    {
     "name": "stdout",
     "output_type": "stream",
     "text": [
      "Coluna 'Melhor Diretor_Etnia' preenchida.\n",
      "Coluna 'Melhor Ator_Etnia' preenchida.\n",
      "Coluna 'Melhor Atriz_Etnia' preenchida.\n",
      "Coluna 'Melhor Ator Coadjuvante_Etnia' preenchida.\n",
      "Coluna 'Melhor Atriz Coadjuvante_Etnia' preenchida.\n"
     ]
    }
   ],
   "source": [
    "colunas_etnia = [\n",
    "    'Melhor Diretor_Etnia',\n",
    "    'Melhor Ator_Etnia',\n",
    "    'Melhor Atriz_Etnia',\n",
    "    'Melhor Ator Coadjuvante_Etnia',\n",
    "    'Melhor Atriz Coadjuvante_Etnia'\n",
    "]\n",
    "\n",
    "for col in colunas_etnia:\n",
    "    if col in df.columns:\n",
    "        df[col] = df[col].astype(object)\n",
    "        df[col] = df[col].fillna('Branco')\n",
    "        print(f\"Coluna '{col}' preenchida.\")\n",
    "    else:\n",
    "        print(f\"Aviso: Coluna '{col}' não encontrada no DataFrame.\")"
   ]
  },
  {
   "cell_type": "code",
   "execution_count": 12,
   "id": "ee0a212e-449b-42f0-8ea3-17a52b6a461d",
   "metadata": {},
   "outputs": [
    {
     "name": "stdout",
     "output_type": "stream",
     "text": [
      "Coluna 'Melhor Ator_Nacionalidade' padronizada.\n",
      "Coluna 'Melhor Atriz_Nacionalidade' padronizada.\n",
      "Coluna 'Melhor Diretor_Nacionalidade' padronizada.\n",
      "Coluna 'Melhor Ator Coadjuvante_Nacionalidade' padronizada.\n",
      "Coluna 'Melhor Atriz Coadjuvante_Nacionalidade' padronizada.\n"
     ]
    }
   ],
   "source": [
    "# Aqui faremos a padronização dos nomes de países que tem incongruências\n",
    "# Mapiei todos os nomes únicos de países individuais e fiz alterações quando necessário.\n",
    "mapeamento_nacionalidades = {\n",
    "    'Suíça': 'Suíça', \n",
    "    'EUA': 'Estados Unidos',\n",
    "    'Canadá': 'Canadá',\n",
    "    'Reino Unido': 'Reino Unido',\n",
    "    'UK': 'Reino Unido', \n",
    "    'França': 'França',\n",
    "    'France': 'França', \n",
    "    'Itália': 'Itália',\n",
    "    'Ucrânia': 'Ucrânia',\n",
    "    'Alemanha': 'Alemanha',\n",
    "    'Índia': 'Índia',\n",
    "    'India': 'Índia', \n",
    "    'Japão': 'Japão',\n",
    "    'Áustria-Hungria': 'Áustria', # Mapeando para o principal sucessor\n",
    "    'Áustria': 'Áustria',\n",
    "    'Grécia': 'Grécia',\n",
    "    'Irlanda': 'Irlanda',\n",
    "    'Polônia': 'Polônia',\n",
    "    'Poland': 'Polônia', \n",
    "    'Romênia': 'Romênia',\n",
    "    'Império Russo': 'Rússia', # Sucessor mais comum\n",
    "    'Rússia': 'Rússia',\n",
    "    'Russia': 'Rússia', \n",
    "    'Ottoman Empire': 'Turquia', # Mapeando para o principal sucessor\n",
    "    'Porto Rico': 'Porto Rico',\n",
    "    'México': 'México',\n",
    "    'Bélgica': 'Bélgica',\n",
    "    'Czechoslovakia': 'República Tcheca', # Um dos sucessores principais.\n",
    "    'Camboja': 'Camboja',\n",
    "    'Israel': 'Israel',\n",
    "    'Coreia do Sul': 'Coreia do Sul',\n",
    "    'Bong Joon Ho': 'Coreia do Sul', # O nome Bong Joon Ho acabou sendo creditado em uma nacionalidade\n",
    "    'China': 'China',\n",
    "    'Nova Zelândia': 'Nova Zelândia',\n",
    "    'Malásia': 'Malásia',\n",
    "    'Vietnam': 'Vietnã',\n",
    "    'Vietnã': 'Vietnã',\n",
    "    'Espanha': 'Espanha',\n",
    "    'Austrália': 'Austrália',\n",
    "    'África do Sul': 'África do Sul'\n",
    "}\n",
    "\n",
    "for col in colunas_nacionalidade:\n",
    "    if col in df.columns:\n",
    "        df[col] = df[col].astype(str).map(mapeamento_nacionalidades).fillna(df[col])\n",
    "        df[col] = df[col].replace('nan', pd.NA).replace('None', pd.NA)\n",
    "        print(f\"Coluna '{col}' padronizada.\")\n",
    "        \n",
    "    else:\n",
    "        print(f\"Aviso: Coluna '{col}' não encontrada no DataFrame para padronização.\")"
   ]
  },
  {
   "cell_type": "code",
   "execution_count": 13,
   "id": "1c15319d-eff5-443b-8b53-30284d101777",
   "metadata": {},
   "outputs": [],
   "source": [
    "nome_arquivo_saida = \"ganhadores_oscar_finalizado.csv\"\n",
    "df.to_csv(nome_arquivo_saida, index=False, encoding='utf-8')"
   ]
  },
  {
   "cell_type": "code",
   "execution_count": null,
   "id": "5bf6e706-b716-4ff3-904b-a06320e2bdac",
   "metadata": {},
   "outputs": [],
   "source": []
  }
 ],
 "metadata": {
  "kernelspec": {
   "display_name": "Python 3 (ipykernel)",
   "language": "python",
   "name": "python3"
  },
  "language_info": {
   "codemirror_mode": {
    "name": "ipython",
    "version": 3
   },
   "file_extension": ".py",
   "mimetype": "text/x-python",
   "name": "python",
   "nbconvert_exporter": "python",
   "pygments_lexer": "ipython3",
   "version": "3.13.4"
  }
 },
 "nbformat": 4,
 "nbformat_minor": 5
}
