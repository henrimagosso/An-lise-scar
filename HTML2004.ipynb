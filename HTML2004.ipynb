{
 "cells": [
  {
   "cell_type": "code",
   "execution_count": null,
   "id": "fbf7e4aa-ba50-478b-94e3-0833c63f3d2a",
   "metadata": {},
   "outputs": [],
   "source": [
    "import requests\n",
    "from bs4 import BeautifulSoup\n",
    "\n",
    "# Headers para simular uma requisição de navegador\n",
    "headers = {\n",
    "    \"User-Agent\": \"Mozilla/5.0 (Windows NT 10.0; Win64; x64) AppleWebKit/537.36 (KHTML, like Gecko) Chrome/126.0.0.0 Safari/537.36\"\n",
    "}\n",
    "\n",
    "# URL base para a página do Oscar no IMDb\n",
    "base_url = \"https://www.imdb.com/pt/event/ev0000003/{ano}/1/?ref_=ev_acd_tl_yr_1\"\n",
    "\n",
    "# Ano desejado\n",
    "ano = 2004\n",
    "url_ano = base_url.format(ano=ano)\n",
    "\n",
    "print(f\"Acessando a URL: {url_ano}\")\n",
    "\n",
    "try:\n",
    "    # Realiza a requisição HTTP\n",
    "    response = requests.get(url_ano, headers=headers)\n",
    "    response.raise_for_status()  # Levanta um erro para códigos de status HTTP ruins (4xx ou 5xx)\n",
    "\n",
    "    # Cria um objeto BeautifulSoup para parsear o HTML\n",
    "    soup = BeautifulSoup(response.text, 'html.parser')\n",
    "\n",
    "    # Imprime o HTML formatado\n",
    "    print(\"\\n--- HTML da página do Oscar 2004 ---\")\n",
    "    print(soup.prettify())\n",
    "\n",
    "except requests.exceptions.HTTPError as e:\n",
    "    print(f\"Erro HTTP ao acessar a URL {url_ano}: {e}\")\n",
    "except requests.exceptions.RequestException as e:\n",
    "    print(f\"Erro de requisição ao acessar a URL {url_ano}: {e}\")\n",
    "except Exception as e:\n",
    "    print(f\"Ocorreu um erro inesperado ao processar a página do Oscar de {ano}: {e}\")"
   ]
  }
 ],
 "metadata": {
  "kernelspec": {
   "display_name": "Python 3 (ipykernel)",
   "language": "python",
   "name": "python3"
  },
  "language_info": {
   "codemirror_mode": {
    "name": "ipython",
    "version": 3
   },
   "file_extension": ".py",
   "mimetype": "text/x-python",
   "name": "python",
   "nbconvert_exporter": "python",
   "pygments_lexer": "ipython3",
   "version": "3.13.4"
  }
 },
 "nbformat": 4,
 "nbformat_minor": 5
}
